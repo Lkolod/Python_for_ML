{
  "nbformat": 4,
  "nbformat_minor": 0,
  "metadata": {
    "colab": {
      "provenance": [],
      "authorship_tag": "ABX9TyMFRh/uIY0/Oq0gnWThJFQW",
      "include_colab_link": true
    },
    "kernelspec": {
      "name": "python3",
      "display_name": "Python 3"
    },
    "language_info": {
      "name": "python"
    }
  },
  "cells": [
    {
      "cell_type": "markdown",
      "metadata": {
        "id": "view-in-github",
        "colab_type": "text"
      },
      "source": [
        "<a href=\"https://colab.research.google.com/github/Lkolod/Python_for_ML/blob/master/lab2_part2.ipynb\" target=\"_parent\"><img src=\"https://colab.research.google.com/assets/colab-badge.svg\" alt=\"Open In Colab\"/></a>"
      ]
    },
    {
      "cell_type": "code",
      "execution_count": null,
      "metadata": {
        "id": "6VFNE7sFzEYL"
      },
      "outputs": [],
      "source": [
        "x = [1,5,6,8,10,12,15,60,80]"
      ]
    },
    {
      "cell_type": "code",
      "source": [],
      "metadata": {
        "id": "OohqupakzpdN"
      },
      "execution_count": null,
      "outputs": []
    }
  ]
}