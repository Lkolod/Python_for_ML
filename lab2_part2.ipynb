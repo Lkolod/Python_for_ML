{
  "nbformat": 4,
  "nbformat_minor": 0,
  "metadata": {
    "colab": {
      "provenance": [],
      "authorship_tag": "ABX9TyMhHLBZhWPOqenKpBNlJXjV",
      "include_colab_link": true
    },
    "kernelspec": {
      "name": "python3",
      "display_name": "Python 3"
    },
    "language_info": {
      "name": "python"
    }
  },
  "cells": [
    {
      "cell_type": "markdown",
      "metadata": {
        "id": "view-in-github",
        "colab_type": "text"
      },
      "source": [
        "<a href=\"https://colab.research.google.com/github/Lkolod/Python_for_ML/blob/while_variant/lab2_part2.ipynb\" target=\"_parent\"><img src=\"https://colab.research.google.com/assets/colab-badge.svg\" alt=\"Open In Colab\"/></a>"
      ]
    },
    {
      "cell_type": "code",
      "execution_count": 8,
      "metadata": {
        "id": "6VFNE7sFzEYL"
      },
      "outputs": [],
      "source": [
        "x = [1,5,6,8,10,12,15,60,80]"
      ]
    },
    {
      "cell_type": "code",
      "source": [
        "num = 0\n",
        "while num < len(x):\n",
        "  num += 1\n",
        "  print(x[num-1])"
      ],
      "metadata": {
        "id": "OohqupakzpdN",
        "colab": {
          "base_uri": "https://localhost:8080/"
        },
        "outputId": "1cb000db-5c4c-4d40-cd87-e3ad9b1268af"
      },
      "execution_count": 15,
      "outputs": [
        {
          "output_type": "stream",
          "name": "stdout",
          "text": [
            "1\n",
            "5\n",
            "6\n",
            "8\n",
            "10\n",
            "12\n",
            "15\n",
            "60\n",
            "80\n"
          ]
        }
      ]
    }
  ]
}