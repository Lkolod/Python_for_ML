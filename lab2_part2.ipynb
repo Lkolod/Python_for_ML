{
  "nbformat": 4,
  "nbformat_minor": 0,
  "metadata": {
    "colab": {
      "provenance": [],
      "authorship_tag": "ABX9TyPmUPQ6IPTZbSBGq64HeJ+/",
      "include_colab_link": true
    },
    "kernelspec": {
      "name": "python3",
      "display_name": "Python 3"
    },
    "language_info": {
      "name": "python"
    }
  },
  "cells": [
    {
      "cell_type": "markdown",
      "metadata": {
        "id": "view-in-github",
        "colab_type": "text"
      },
      "source": [
        "<a href=\"https://colab.research.google.com/github/Lkolod/Python_for_ML/blob/while_variant/lab2_part2.ipynb\" target=\"_parent\"><img src=\"https://colab.research.google.com/assets/colab-badge.svg\" alt=\"Open In Colab\"/></a>"
      ]
    },
    {
      "cell_type": "code",
      "execution_count": 6,
      "metadata": {
        "id": "6VFNE7sFzEYL"
      },
      "outputs": [],
      "source": [
        "x = [1,5,6,8,10,12,15,60,80]"
      ]
    },
    {
      "cell_type": "code",
      "source": [
        "for item in x:\n",
        "  print(item)"
      ],
      "metadata": {
        "id": "OohqupakzpdN",
        "colab": {
          "base_uri": "https://localhost:8080/"
        },
        "outputId": "b8fe1186-385a-43d9-8e7f-769daf012c8d"
      },
      "execution_count": 7,
      "outputs": [
        {
          "output_type": "stream",
          "name": "stdout",
          "text": [
            "1\n",
            "5\n",
            "6\n",
            "8\n",
            "10\n",
            "12\n",
            "15\n",
            "60\n",
            "80\n"
          ]
        }
      ]
    }
  ]
}